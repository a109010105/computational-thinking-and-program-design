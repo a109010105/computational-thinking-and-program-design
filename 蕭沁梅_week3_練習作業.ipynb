{
  "nbformat": 4,
  "nbformat_minor": 0,
  "metadata": {
    "colab": {
      "name": "蕭沁梅-week3-練習作業",
      "provenance": [],
      "collapsed_sections": [],
      "toc_visible": true,
      "include_colab_link": true
    },
    "kernelspec": {
      "display_name": "Python 3",
      "name": "python3"
    }
  },
  "cells": [
    {
      "cell_type": "markdown",
      "metadata": {
        "id": "view-in-github",
        "colab_type": "text"
      },
      "source": [
        "<a href=\"https://colab.research.google.com/github/a109010105/computational-thinking-and-program-design/blob/main/%E8%95%AD%E6%B2%81%E6%A2%85_week3_%E7%B7%B4%E7%BF%92%E4%BD%9C%E6%A5%AD.ipynb\" target=\"_parent\"><img src=\"https://colab.research.google.com/assets/colab-badge.svg\" alt=\"Open In Colab\"/></a>"
      ]
    },
    {
      "cell_type": "markdown",
      "metadata": {
        "id": "ZuTjvfb2Qjvs"
      },
      "source": [
        "#隨堂練習"
      ]
    },
    {
      "cell_type": "code",
      "metadata": {
        "id": "YdA8B42bQqt_"
      },
      "source": [
        ""
      ],
      "execution_count": null,
      "outputs": []
    },
    {
      "cell_type": "markdown",
      "metadata": {
        "id": "5yMnl192U2ff"
      },
      "source": [
        "介紹電腦硬體與介紹電腦硬體與計算用硬.計算用硬體.儲存用硬體.連接用硬體\r\n",
        "為甚麼要學程式語言，因為是我們電腦的翻譯官\r\n",
        "甚麼是運算思維:用思考找到解決辦法的一個過程"
      ]
    },
    {
      "cell_type": "markdown",
      "metadata": {
        "id": "CRsL1qufQsla"
      },
      "source": [
        "#課後作業"
      ]
    },
    {
      "cell_type": "code",
      "metadata": {
        "id": "VJ3vCnpNQxsK"
      },
      "source": [
        ""
      ],
      "execution_count": null,
      "outputs": []
    },
    {
      "cell_type": "markdown",
      "metadata": {
        "id": "k_BRacjVQ0v6"
      },
      "source": [
        "(2)課後練習則為從一則新聞報導，提出你對新聞系（OO系）學生為什麼要學「運算思維與程式設計」的見解。（告訴我新聞連結，以及你的觀點即可。）"
      ]
    },
    {
      "cell_type": "markdown",
      "metadata": {
        "id": "Jw8sd-kVTPmM"
      },
      "source": [
        "https://www.cw.com.tw/article/5080736\r\n",
        "未來的科技只會越來越發達，不會越來越退步。所以因應科技時代來臨，我們早晚必須學習程式設計，因為在未來，科技將與我們的生活息息相關。"
      ]
    }
  ]
}